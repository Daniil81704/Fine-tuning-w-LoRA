{
  "cells": [
    {
      "cell_type": "markdown",
      "metadata": {
        "id": "view-in-github",
        "colab_type": "text"
      },
      "source": [
        "<a href=\"https://colab.research.google.com/github/Daniil81704/Fine-tuning-w-LoRA/blob/main/Dostoevskiy_fine_tuning.ipynb\" target=\"_parent\"><img src=\"https://colab.research.google.com/assets/colab-badge.svg\" alt=\"Open In Colab\"/></a>"
      ]
    },
    {
      "cell_type": "code",
      "execution_count": null,
      "metadata": {
        "id": "VOxA26VwPgp4"
      },
      "outputs": [],
      "source": [
        "!pip install -U datasets evaluate peft"
      ]
    },
    {
      "cell_type": "code",
      "execution_count": null,
      "metadata": {
        "id": "0uU3yOvoGI8R"
      },
      "outputs": [],
      "source": [
        "import requests\n",
        "\n",
        "url = \"https://gitlab.com/z00logist/artificial-dostoevsky/-/raw/main/data/corpus.txt\"\n",
        "try:\n",
        "    response = requests.get(url)\n",
        "    response.raise_for_status()\n",
        "    text_from_url = response.text\n",
        "    # print(text_from_url)\n",
        "except requests.exceptions.RequestException as e:\n",
        "    print(f\"Ошибка при запросе URL: {e}\")"
      ]
    },
    {
      "cell_type": "code",
      "execution_count": null,
      "metadata": {
        "id": "Sp4QdJ6vGm52"
      },
      "outputs": [],
      "source": [
        "text_from_url[:1000]"
      ]
    },
    {
      "cell_type": "code",
      "execution_count": null,
      "metadata": {
        "id": "4LHhPKuLYOC5"
      },
      "outputs": [],
      "source": [
        "import torch\n",
        "from transformers import Trainer, TrainingArguments, GPT2LMHeadModel, GPT2Tokenizer\n",
        "from datasets import load_dataset, Dataset\n",
        "from peft import get_peft_model, LoraConfig\n",
        "\n",
        "def preprocess_function(examples):\n",
        "    encoding = tokenizer(examples['text'], truncation=True, padding=\"max_length\", max_length=50)\n",
        "    encoding['labels'] = encoding['input_ids'].copy()\n",
        "    return encoding"
      ]
    },
    {
      "cell_type": "code",
      "execution_count": null,
      "metadata": {
        "id": "RTb0jX6wLrhE"
      },
      "outputs": [],
      "source": [
        "model_name = \"sberbank-ai/rugpt3large_based_on_gpt2\"\n",
        "model = GPT2LMHeadModel.from_pretrained(model_name)\n",
        "tokenizer = GPT2Tokenizer.from_pretrained(model_name)\n",
        "\n",
        "tokenizer.pad_token = tokenizer.eos_token\n",
        "\n",
        "DEVICE = torch.device('cuda' if torch.cuda.is_available() else 'cpu')\n",
        "# DEVICE = torch.device('cpu')\n",
        "print(DEVICE)\n",
        "model.to(DEVICE)"
      ]
    },
    {
      "cell_type": "code",
      "execution_count": null,
      "metadata": {
        "id": "CenQVjJhf0Cp"
      },
      "outputs": [],
      "source": [
        "data = {\n",
        "    \"text\": [text_from_url]\n",
        "}\n",
        "\n",
        "dataset = Dataset.from_dict(data)\n",
        "tokenized_dataset = dataset.map(preprocess_function, batched=True)\n",
        "\n",
        "lora_config = LoraConfig(\n",
        "    r=64,\n",
        "    lora_alpha=64,\n",
        "    lora_dropout=0.1,\n",
        "    task_type='CAUSAL_LM'\n",
        ")\n",
        "\n",
        "model = get_peft_model(model, lora_config)\n",
        "\n",
        "training_args = TrainingArguments(\n",
        "    report_to='none',\n",
        "    learning_rate=5e-5,\n",
        "    num_train_epochs=800,\n",
        "    per_device_train_batch_size=8,\n",
        "    warmup_steps=10,\n",
        "    gradient_accumulation_steps=4,\n",
        "    weight_decay=0.01,\n",
        ")\n",
        "\n",
        "trainer = Trainer(\n",
        "    model=model,\n",
        "    args=training_args,\n",
        "    train_dataset=tokenized_dataset,\n",
        ")\n",
        "\n",
        "trainer.train()\n",
        "\n",
        "# model.save_pretrained('./finetuned_gpt3')"
      ]
    },
    {
      "cell_type": "code",
      "execution_count": null,
      "metadata": {
        "id": "G2s6EBvVMaM4"
      },
      "outputs": [],
      "source": [
        "import numpy as np\n",
        "\n",
        "np.random.seed(42)\n",
        "torch.manual_seed(42)\n",
        "\n",
        "text = \"Не хотите ли кофею?\"\n",
        "inpt = tokenizer.encode(text, return_tensors=\"pt\")\n",
        "\n",
        "out = model.generate(inpt.cuda(),\n",
        "                     max_length=200,\n",
        "                     repetition_penalty=6.0,\n",
        "                     do_sample=True,\n",
        "                     top_k=5,\n",
        "                     top_p=0.95,\n",
        "                     temperature=1,\n",
        "                     no_repeat_ngram_size=2)\n",
        "\n",
        "generated_text = list(map(tokenizer.decode, out))[0]\n",
        "print(generated_text)"
      ]
    }
  ],
  "metadata": {
    "accelerator": "GPU",
    "colab": {
      "gpuType": "T4",
      "provenance": [],
      "authorship_tag": "ABX9TyM6Ho5rfGIALS5LxUMfauPM",
      "include_colab_link": true
    },
    "kernelspec": {
      "display_name": "Python 3",
      "name": "python3"
    },
    "language_info": {
      "name": "python"
    }
  },
  "nbformat": 4,
  "nbformat_minor": 0
}